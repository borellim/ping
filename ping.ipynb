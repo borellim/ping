{
 "cells": [
  {
   "cell_type": "code",
   "execution_count": null,
   "metadata": {},
   "outputs": [],
   "source": [
    "host = \"www.google.com\"\n",
    "draw_every = 5"
   ]
  },
  {
   "cell_type": "code",
   "execution_count": null,
   "metadata": {},
   "outputs": [],
   "source": [
    "%matplotlib notebook\n",
    "from matplotlib import pyplot as plt\n",
    "import time\n",
    "import random\n",
    "import signal"
   ]
  },
  {
   "cell_type": "code",
   "execution_count": null,
   "metadata": {},
   "outputs": [],
   "source": [
    "def ping(host):\n",
    "    import subprocess\n",
    "    proc = subprocess.Popen([\"ping\", \"-c\", \"1\", host], stdout=subprocess.PIPE, stderr=subprocess.PIPE)\n",
    "    stdout, stderr = proc.communicate()\n",
    "    return_code = proc.returncode\n",
    "    try:\n",
    "        rtt = float(stdout.split(\"\\n\")[1].split(\"time=\")[1].split(\"ms\")[0])\n",
    "    except:\n",
    "        rtt = None\n",
    "    return (return_code, rtt)"
   ]
  },
  {
   "cell_type": "code",
   "execution_count": null,
   "metadata": {
    "scrolled": false
   },
   "outputs": [],
   "source": [
    "fig = plt.figure(figsize=(12,8))\n",
    "ax = fig.add_subplot(111)\n",
    "plt.ion()\n",
    "\n",
    "fig.show()\n",
    "fig.canvas.draw()\n",
    "\n",
    "data_rc = []  # return codes\n",
    "data_rtt = []  # round-trip times\n",
    "\n",
    "#def signal_handler(sig, frame):\n",
    "#    fig.savefig(\"graph.png.\"+str(random.uniform(0,1000000)))\n",
    "#    sys.exit(0)\n",
    "\n",
    "#signal.signal(signal.SIGINT, signal_handler)\n",
    "\n",
    "filename = \"graph.png.\"+str(random.uniform(0,1000000))\n",
    "\n",
    "c = 0\n",
    "while(True):\n",
    "    data = ping(host)\n",
    "    data_rc.append(data[0])\n",
    "    data_rtt.append(data[1])\n",
    "    ax.clear()\n",
    "    ax.plot(data_rtt)\n",
    "    if c == 0:\n",
    "        fig.canvas.draw()\n",
    "        #plt.savefig(filename)\n",
    "    if c == draw_every:\n",
    "        c = 0\n",
    "    else:\n",
    "        c += 1\n",
    "    time.sleep(1)\n"
   ]
  },
  {
   "cell_type": "code",
   "execution_count": null,
   "metadata": {},
   "outputs": [],
   "source": []
  }
 ],
 "metadata": {
  "kernelspec": {
   "display_name": "Python 2",
   "language": "python",
   "name": "python2"
  },
  "language_info": {
   "codemirror_mode": {
    "name": "ipython",
    "version": 2
   },
   "file_extension": ".py",
   "mimetype": "text/x-python",
   "name": "python",
   "nbconvert_exporter": "python",
   "pygments_lexer": "ipython2",
   "version": "2.7.12"
  }
 },
 "nbformat": 4,
 "nbformat_minor": 2
}
